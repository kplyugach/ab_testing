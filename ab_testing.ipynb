{
 "cells": [
  {
   "cell_type": "markdown",
   "id": "fae3c5d6-7d6a-477d-b2bf-eb9c17a48174",
   "metadata": {},
   "source": [
    "## Download and read data"
   ]
  },
  {
   "cell_type": "code",
   "execution_count": 26,
   "id": "1266fe6c-fdf2-4131-a3c2-f9d9d56de486",
   "metadata": {},
   "outputs": [],
   "source": [
    "import pandas as pd\n",
    "import numpy as np\n",
    "import matplotlib.pyplot as plt\n",
    "import seaborn as sns\n",
    "from scipy import stats\n",
    "import pandahouse\n",
    "%matplotlib inline"
   ]
  },
  {
   "cell_type": "code",
   "execution_count": 27,
   "id": "ace2166a-099c-4742-b8c1-5c9a34189af5",
   "metadata": {},
   "outputs": [],
   "source": [
    "def select(query):\n",
    "    return pandahouse.read_clickhouse(query, connection=connection)"
   ]
  },
  {
   "cell_type": "code",
   "execution_count": 28,
   "id": "c6528117-cea8-4b78-a5c8-45ef28d287e6",
   "metadata": {},
   "outputs": [],
   "source": [
    "connection = {\n",
    "    'database': 'simulator_20221120',\n",
    "    'host': 'https://clickhouse.lab.karpov.courses',\n",
    "    'user': 'student',\n",
    "    'password': 'dpo_python_2020'\n",
    "}"
   ]
  },
  {
   "cell_type": "code",
   "execution_count": 29,
   "id": "318e2c81-4a90-4ada-b33c-3fd070da738d",
   "metadata": {},
   "outputs": [],
   "source": [
    "query = '''\n",
    "select exp_group, user_id,\n",
    "sum(action = 'like') as likes,\n",
    "sum(action = 'view') as views,\n",
    "likes / views as ctr\n",
    "from {db}.feed_actions \n",
    "where toDate(time) between '2022-11-02' and '2022-11-08' and exp_group in (2, 1)\n",
    "group by exp_group, user_id\n",
    "'''"
   ]
  },
  {
   "cell_type": "code",
   "execution_count": 30,
   "id": "ef3b4ce8-fd84-4bba-b9b2-4f031bb43917",
   "metadata": {},
   "outputs": [],
   "source": [
    "df = select(query)"
   ]
  },
  {
   "cell_type": "code",
   "execution_count": 31,
   "id": "d3d44683-0a11-4fbc-bfa9-4962351e5e50",
   "metadata": {},
   "outputs": [
    {
     "data": {
      "text/html": [
       "<div>\n",
       "<style scoped>\n",
       "    .dataframe tbody tr th:only-of-type {\n",
       "        vertical-align: middle;\n",
       "    }\n",
       "\n",
       "    .dataframe tbody tr th {\n",
       "        vertical-align: top;\n",
       "    }\n",
       "\n",
       "    .dataframe thead th {\n",
       "        text-align: right;\n",
       "    }\n",
       "</style>\n",
       "<table border=\"1\" class=\"dataframe\">\n",
       "  <thead>\n",
       "    <tr style=\"text-align: right;\">\n",
       "      <th></th>\n",
       "      <th>exp_group</th>\n",
       "      <th>user_id</th>\n",
       "      <th>likes</th>\n",
       "      <th>views</th>\n",
       "      <th>ctr</th>\n",
       "    </tr>\n",
       "  </thead>\n",
       "  <tbody>\n",
       "    <tr>\n",
       "      <th>0</th>\n",
       "      <td>1</td>\n",
       "      <td>109963</td>\n",
       "      <td>3</td>\n",
       "      <td>15</td>\n",
       "      <td>0.200000</td>\n",
       "    </tr>\n",
       "    <tr>\n",
       "      <th>1</th>\n",
       "      <td>1</td>\n",
       "      <td>26117</td>\n",
       "      <td>32</td>\n",
       "      <td>141</td>\n",
       "      <td>0.226950</td>\n",
       "    </tr>\n",
       "    <tr>\n",
       "      <th>2</th>\n",
       "      <td>1</td>\n",
       "      <td>138232</td>\n",
       "      <td>18</td>\n",
       "      <td>73</td>\n",
       "      <td>0.246575</td>\n",
       "    </tr>\n",
       "    <tr>\n",
       "      <th>3</th>\n",
       "      <td>1</td>\n",
       "      <td>26295</td>\n",
       "      <td>33</td>\n",
       "      <td>122</td>\n",
       "      <td>0.270492</td>\n",
       "    </tr>\n",
       "    <tr>\n",
       "      <th>4</th>\n",
       "      <td>1</td>\n",
       "      <td>18392</td>\n",
       "      <td>7</td>\n",
       "      <td>32</td>\n",
       "      <td>0.218750</td>\n",
       "    </tr>\n",
       "    <tr>\n",
       "      <th>...</th>\n",
       "      <td>...</td>\n",
       "      <td>...</td>\n",
       "      <td>...</td>\n",
       "      <td>...</td>\n",
       "      <td>...</td>\n",
       "    </tr>\n",
       "    <tr>\n",
       "      <th>20026</th>\n",
       "      <td>1</td>\n",
       "      <td>132567</td>\n",
       "      <td>45</td>\n",
       "      <td>296</td>\n",
       "      <td>0.152027</td>\n",
       "    </tr>\n",
       "    <tr>\n",
       "      <th>20027</th>\n",
       "      <td>1</td>\n",
       "      <td>30872</td>\n",
       "      <td>11</td>\n",
       "      <td>59</td>\n",
       "      <td>0.186441</td>\n",
       "    </tr>\n",
       "    <tr>\n",
       "      <th>20028</th>\n",
       "      <td>2</td>\n",
       "      <td>25383</td>\n",
       "      <td>42</td>\n",
       "      <td>127</td>\n",
       "      <td>0.330709</td>\n",
       "    </tr>\n",
       "    <tr>\n",
       "      <th>20029</th>\n",
       "      <td>2</td>\n",
       "      <td>139020</td>\n",
       "      <td>24</td>\n",
       "      <td>114</td>\n",
       "      <td>0.210526</td>\n",
       "    </tr>\n",
       "    <tr>\n",
       "      <th>20030</th>\n",
       "      <td>2</td>\n",
       "      <td>17310</td>\n",
       "      <td>9</td>\n",
       "      <td>82</td>\n",
       "      <td>0.109756</td>\n",
       "    </tr>\n",
       "  </tbody>\n",
       "</table>\n",
       "<p>20031 rows × 5 columns</p>\n",
       "</div>"
      ],
      "text/plain": [
       "       exp_group  user_id  likes  views       ctr\n",
       "0              1   109963      3     15  0.200000\n",
       "1              1    26117     32    141  0.226950\n",
       "2              1   138232     18     73  0.246575\n",
       "3              1    26295     33    122  0.270492\n",
       "4              1    18392      7     32  0.218750\n",
       "...          ...      ...    ...    ...       ...\n",
       "20026          1   132567     45    296  0.152027\n",
       "20027          1    30872     11     59  0.186441\n",
       "20028          2    25383     42    127  0.330709\n",
       "20029          2   139020     24    114  0.210526\n",
       "20030          2    17310      9     82  0.109756\n",
       "\n",
       "[20031 rows x 5 columns]"
      ]
     },
     "execution_count": 31,
     "metadata": {},
     "output_type": "execute_result"
    }
   ],
   "source": [
    "df"
   ]
  },
  {
   "cell_type": "markdown",
   "id": "e3026e47-2138-4a83-a103-18cc5a6f71a7",
   "metadata": {},
   "source": [
    "## Histogram "
   ]
  },
  {
   "cell_type": "code",
   "execution_count": 32,
   "id": "2fe6e387-3cf4-45e3-b992-6aa86d52ddbd",
   "metadata": {},
   "outputs": [
    {
     "data": {
      "text/plain": [
       "<AxesSubplot:xlabel='ctr', ylabel='Count'>"
      ]
     },
     "execution_count": 32,
     "metadata": {},
     "output_type": "execute_result"
    },
    {
     "data": {
      "image/png": "[encoded data removed]",
      "text/plain": [
       "<Figure size 842.4x595.44 with 1 Axes>"
      ]
     },
     "metadata": {},
     "output_type": "display_data"
    }
   ],
   "source": [
    "sns.set(rc={'figure.figsize': (11.7, 8.27)})\n",
    "sns.histplot(data=df, x='ctr', hue='exp_group', kde = False, palette=['r', 'b'], alpha=0.5)"
   ]
  },
  {
   "cell_type": "markdown",
   "id": "970c42aa-0cd9-418c-9a2d-e3b50681fc2d",
   "metadata": {},
   "source": [
    "Анализ \"на глаз\" и гистограмма утверждает, что отличие между группами есть. "
   ]
  },
  {
   "cell_type": "markdown",
   "id": "628ce219-cd8f-40fa-915e-db57874c7f45",
   "metadata": {},
   "source": [
    "## Student's t-test"
   ]
  },
  {
   "cell_type": "code",
   "execution_count": 33,
   "id": "bb6bff5e-0c60-4da4-acc9-ab98a551ce67",
   "metadata": {},
   "outputs": [],
   "source": [
    "group_A = df[df['exp_group'] == 2].copy() \n",
    "group_B = df[df['exp_group'] == 1].copy()"
   ]
  },
  {
   "cell_type": "code",
   "execution_count": 34,
   "id": "951589df-fcca-4898-ba3e-d71e4605e6b5",
   "metadata": {},
   "outputs": [
    {
     "data": {
      "text/plain": [
       "Ttest_indResult(statistic=-0.7094392041270485, pvalue=0.4780623130874935)"
      ]
     },
     "execution_count": 34,
     "metadata": {},
     "output_type": "execute_result"
    }
   ],
   "source": [
    "stats.ttest_ind(group_A['ctr'], group_B['ctr'], equal_var=False)"
   ]
  },
  {
   "cell_type": "markdown",
   "id": "2ea85d64-2073-4733-912b-bbbf3141c5d2",
   "metadata": {},
   "source": [
    "T-test утверждает, что отличия между группами нет."
   ]
  },
  {
   "cell_type": "markdown",
   "id": "1cdf37b9-0b8b-4480-ba37-b735a822abc4",
   "metadata": {},
   "source": [
    "## Smothed CTR"
   ]
  },
  {
   "cell_type": "code",
   "execution_count": 9,
   "id": "23fa0051-87b2-49ca-bab2-c19d459d9749",
   "metadata": {},
   "outputs": [],
   "source": [
    "def get_smothed_ctr(user_likes, user_views, global_ctr, alpha):\n",
    "    smothed_ctr = (user_likes + alpha * global_ctr) / (user_views + alpha)\n",
    "    return smothed_ctr"
   ]
  },
  {
   "cell_type": "code",
   "execution_count": 37,
   "id": "8c2c4bc3-0abd-437e-bb58-39eabbcdeace",
   "metadata": {},
   "outputs": [],
   "source": [
    "global_ctr_A = df[df['exp_group'] == 2]['likes'].sum() / df[df['exp_group'] == 2]['views'].sum() \n",
    "global_ctr_B = df[df['exp_group'] == 1]['likes'].sum() / df[df['exp_group'] == 1]['views'].sum()"
   ]
  },
  {
   "cell_type": "code",
   "execution_count": 38,
   "id": "d1c49ac0-59f9-48b9-b22f-00bb56f3c771",
   "metadata": {},
   "outputs": [],
   "source": [
    "group_A['smothed_ctr'] = df.apply(lambda x: get_smothed_ctr(x['likes'], x['views'], global_ctr_A, 5), axis=1) \n",
    "group_B['smothed_ctr'] = df.apply(lambda x: get_smothed_ctr(x['likes'], x['views'], global_ctr_B, 5), axis=1)"
   ]
  },
  {
   "cell_type": "code",
   "execution_count": 39,
   "id": "80d81fe6-cddc-4e4a-880a-a70ebb5ed65c",
   "metadata": {},
   "outputs": [
    {
     "data": {
      "text/plain": [
       "Ttest_indResult(statistic=-2.2841320431616983, pvalue=0.0223769815558559)"
      ]
     },
     "execution_count": 39,
     "metadata": {},
     "output_type": "execute_result"
    }
   ],
   "source": [
    "stats.ttest_ind(group_A['smothed_ctr'], group_B['smothed_ctr'], equal_var=False)"
   ]
  },
  {
   "cell_type": "markdown",
   "id": "d921668d-7999-43cf-b5d3-f955642451d8",
   "metadata": {},
   "source": [
    "Smothed CTR утверждает, что отличие между группами есть. Так как теоритичекой гарантии нет, это может быть основанием не утверждать, что отличие между группами есть. "
   ]
  },
  {
   "cell_type": "markdown",
   "id": "df523cdb-f0ee-49e4-a1ac-98788ca0cee3",
   "metadata": {},
   "source": [
    "По какой-то причине t-test утверждает, что отличия между группами нет, возможно, это связано с тем, что разные метрики имеют разную чувствительность и мощности t-test не достаточно, чтобы выявить отличие."
   ]
  },
  {
   "cell_type": "markdown",
   "id": "c62a8af3-ceff-452e-aa91-5dacec1e1773",
   "metadata": {},
   "source": [
    "## Poisson bootstrap"
   ]
  },
  {
   "cell_type": "code",
   "execution_count": 40,
   "id": "b449e2cd-74c1-432c-8435-e2fde07210a9",
   "metadata": {},
   "outputs": [],
   "source": [
    "def bootstrap(likes1, views1, likes2, views2, n_bootstrap=2000):\n",
    "\n",
    "    poisson_bootstraps1 = stats.poisson(1).rvs(\n",
    "        (n_bootstrap, len(likes1))).astype(np.int64)\n",
    "\n",
    "    poisson_bootstraps2 = stats.poisson(1).rvs(\n",
    "            (n_bootstrap, len(likes2))).astype(np.int64)\n",
    "    \n",
    "    globalCTR1 = (poisson_bootstraps1*likes1).sum(axis=1)/(poisson_bootstraps1*views1).sum(axis=1)\n",
    "    \n",
    "    globalCTR2 = (poisson_bootstraps2*likes2).sum(axis=1)/(poisson_bootstraps2*views2).sum(axis=1)\n",
    "\n",
    "    return globalCTR1, globalCTR2"
   ]
  },
  {
   "cell_type": "code",
   "execution_count": 41,
   "id": "bb39e556-6b59-4f08-81e5-c4f79723870e",
   "metadata": {},
   "outputs": [],
   "source": [
    "likes1 = df[df['exp_group'] == 2]['likes'].to_numpy()\n",
    "views1 = df[df['exp_group'] == 2]['views'].to_numpy()"
   ]
  },
  {
   "cell_type": "code",
   "execution_count": 42,
   "id": "d46920c8-8456-45ff-ab25-6b95f21c200d",
   "metadata": {},
   "outputs": [],
   "source": [
    "likes2 = df[df['exp_group'] == 1]['likes'].to_numpy()\n",
    "views2 = df[df['exp_group'] == 1]['views'].to_numpy()"
   ]
  },
  {
   "cell_type": "code",
   "execution_count": 43,
   "id": "02db2475-9ba0-41c5-9423-e3887e9bec2c",
   "metadata": {},
   "outputs": [],
   "source": [
    "ctr1, ctr2 = bootstrap(likes1, views1, likes2, views2)"
   ]
  },
  {
   "cell_type": "code",
   "execution_count": 44,
   "id": "0c99bae5-7e1d-4919-8f80-c27d73d6537f",
   "metadata": {},
   "outputs": [
    {
     "data": {
      "text/plain": [
       "<AxesSubplot:ylabel='Count'>"
      ]
     },
     "execution_count": 44,
     "metadata": {},
     "output_type": "execute_result"
    },
    {
     "data": {
      "image/png": "[encoded data removed]",
      "text/plain": [
       "<Figure size 842.4x595.44 with 1 Axes>"
      ]
     },
     "metadata": {},
     "output_type": "display_data"
    }
   ],
   "source": [
    "sns.histplot(ctr1)\n",
    "sns.histplot(ctr2)"
   ]
  },
  {
   "cell_type": "markdown",
   "id": "be3de2fc-c277-4619-a840-f7e2c6e8dfe8",
   "metadata": {},
   "source": [
    "Poisson bootstrap утверждает, что экспериментальный алгоритм статистически значимо хуже контрольного алгоритма. "
   ]
  },
  {
   "cell_type": "markdown",
   "id": "e562caec-f04b-4e0b-aa6e-1fdcf267f826",
   "metadata": {},
   "source": [
    "## Bucket evaluations"
   ]
  },
  {
   "cell_type": "code",
   "execution_count": 45,
   "id": "c0b36f65-5a20-49dc-9c4b-8a566d22fe8f",
   "metadata": {},
   "outputs": [],
   "source": [
    "query = '''\n",
    "select exp_group, xxHash64(user_id)%50 as bucket,\n",
    "sum(action = 'like') as likes,\n",
    "sum(action = 'view') as views,\n",
    "likes / views as bucket_ctr\n",
    "from {db}.feed_actions \n",
    "where toDate(time) between '2022-11-02' and '2022-11-08' and exp_group in (2, 1)\n",
    "group by exp_group, bucket\n",
    "'''"
   ]
  },
  {
   "cell_type": "code",
   "execution_count": 46,
   "id": "c183ad5c-8626-4e6e-94a2-9dff10b1ac89",
   "metadata": {},
   "outputs": [],
   "source": [
    "df = select(query)"
   ]
  },
  {
   "cell_type": "code",
   "execution_count": 47,
   "id": "9d534589-07a0-4c85-8ead-88e10e3d3713",
   "metadata": {},
   "outputs": [
    {
     "data": {
      "text/html": [
       "<div>\n",
       "<style scoped>\n",
       "    .dataframe tbody tr th:only-of-type {\n",
       "        vertical-align: middle;\n",
       "    }\n",
       "\n",
       "    .dataframe tbody tr th {\n",
       "        vertical-align: top;\n",
       "    }\n",
       "\n",
       "    .dataframe thead th {\n",
       "        text-align: right;\n",
       "    }\n",
       "</style>\n",
       "<table border=\"1\" class=\"dataframe\">\n",
       "  <thead>\n",
       "    <tr style=\"text-align: right;\">\n",
       "      <th></th>\n",
       "      <th>exp_group</th>\n",
       "      <th>bucket</th>\n",
       "      <th>likes</th>\n",
       "      <th>views</th>\n",
       "      <th>bucket_ctr</th>\n",
       "    </tr>\n",
       "  </thead>\n",
       "  <tbody>\n",
       "    <tr>\n",
       "      <th>0</th>\n",
       "      <td>1</td>\n",
       "      <td>0</td>\n",
       "      <td>2624</td>\n",
       "      <td>13355</td>\n",
       "      <td>0.196481</td>\n",
       "    </tr>\n",
       "    <tr>\n",
       "      <th>1</th>\n",
       "      <td>2</td>\n",
       "      <td>0</td>\n",
       "      <td>2634</td>\n",
       "      <td>13559</td>\n",
       "      <td>0.194262</td>\n",
       "    </tr>\n",
       "    <tr>\n",
       "      <th>2</th>\n",
       "      <td>1</td>\n",
       "      <td>1</td>\n",
       "      <td>2681</td>\n",
       "      <td>12653</td>\n",
       "      <td>0.211887</td>\n",
       "    </tr>\n",
       "    <tr>\n",
       "      <th>3</th>\n",
       "      <td>2</td>\n",
       "      <td>1</td>\n",
       "      <td>2686</td>\n",
       "      <td>12474</td>\n",
       "      <td>0.215328</td>\n",
       "    </tr>\n",
       "    <tr>\n",
       "      <th>4</th>\n",
       "      <td>1</td>\n",
       "      <td>2</td>\n",
       "      <td>3046</td>\n",
       "      <td>14767</td>\n",
       "      <td>0.206271</td>\n",
       "    </tr>\n",
       "    <tr>\n",
       "      <th>...</th>\n",
       "      <td>...</td>\n",
       "      <td>...</td>\n",
       "      <td>...</td>\n",
       "      <td>...</td>\n",
       "      <td>...</td>\n",
       "    </tr>\n",
       "    <tr>\n",
       "      <th>95</th>\n",
       "      <td>2</td>\n",
       "      <td>47</td>\n",
       "      <td>2510</td>\n",
       "      <td>12814</td>\n",
       "      <td>0.195880</td>\n",
       "    </tr>\n",
       "    <tr>\n",
       "      <th>96</th>\n",
       "      <td>1</td>\n",
       "      <td>48</td>\n",
       "      <td>2839</td>\n",
       "      <td>13342</td>\n",
       "      <td>0.212787</td>\n",
       "    </tr>\n",
       "    <tr>\n",
       "      <th>97</th>\n",
       "      <td>2</td>\n",
       "      <td>48</td>\n",
       "      <td>2554</td>\n",
       "      <td>13131</td>\n",
       "      <td>0.194502</td>\n",
       "    </tr>\n",
       "    <tr>\n",
       "      <th>98</th>\n",
       "      <td>1</td>\n",
       "      <td>49</td>\n",
       "      <td>2949</td>\n",
       "      <td>14515</td>\n",
       "      <td>0.203169</td>\n",
       "    </tr>\n",
       "    <tr>\n",
       "      <th>99</th>\n",
       "      <td>2</td>\n",
       "      <td>49</td>\n",
       "      <td>2726</td>\n",
       "      <td>13870</td>\n",
       "      <td>0.196539</td>\n",
       "    </tr>\n",
       "  </tbody>\n",
       "</table>\n",
       "<p>100 rows × 5 columns</p>\n",
       "</div>"
      ],
      "text/plain": [
       "    exp_group  bucket  likes  views  bucket_ctr\n",
       "0           1       0   2624  13355    0.196481\n",
       "1           2       0   2634  13559    0.194262\n",
       "2           1       1   2681  12653    0.211887\n",
       "3           2       1   2686  12474    0.215328\n",
       "4           1       2   3046  14767    0.206271\n",
       "..        ...     ...    ...    ...         ...\n",
       "95          2      47   2510  12814    0.195880\n",
       "96          1      48   2839  13342    0.212787\n",
       "97          2      48   2554  13131    0.194502\n",
       "98          1      49   2949  14515    0.203169\n",
       "99          2      49   2726  13870    0.196539\n",
       "\n",
       "[100 rows x 5 columns]"
      ]
     },
     "execution_count": 47,
     "metadata": {},
     "output_type": "execute_result"
    }
   ],
   "source": [
    "df"
   ]
  },
  {
   "cell_type": "code",
   "execution_count": 50,
   "id": "d0e65c17-ef1a-4cf5-baba-9c940b98b9fe",
   "metadata": {},
   "outputs": [
    {
     "data": {
      "text/plain": [
       "MannwhitneyuResult(statistic=505.0, pvalue=2.859963936492646e-07)"
      ]
     },
     "execution_count": 50,
     "metadata": {},
     "output_type": "execute_result"
    }
   ],
   "source": [
    "stats.mannwhitneyu(df[df['exp_group'] == 2]['bucket_ctr'], df[df['exp_group'] == 1]['bucket_ctr'], alternative='two-sided')"
   ]
  },
  {
   "cell_type": "code",
   "execution_count": 52,
   "id": "212c39c5-ee7a-475b-bdb9-521fbc2534b0",
   "metadata": {},
   "outputs": [
    {
     "data": {
      "text/plain": [
       "<AxesSubplot:xlabel='bucket_ctr', ylabel='Count'>"
      ]
     },
     "execution_count": 52,
     "metadata": {},
     "output_type": "execute_result"
    },
    {
     "data": {
      "image/png": "[encoded data removed]",
      "text/plain": [
       "<Figure size 842.4x595.44 with 1 Axes>"
      ]
     },
     "metadata": {},
     "output_type": "display_data"
    }
   ],
   "source": [
    "sns.set(rc={'figure.figsize': (11.7, 8.27)})\n",
    "sns.histplot(data=df, x='bucket_ctr', hue='exp_group', kde=False, palette=['r', 'b'], alpha=0.5)"
   ]
  },
  {
   "cell_type": "markdown",
   "id": "3086a066-76cd-4e4b-ac67-49ba810742ae",
   "metadata": {},
   "source": [
    "Mann–Whitney U test и бакетное распределение показывают явное, статистически значимое отличие."
   ]
  },
  {
   "cell_type": "markdown",
   "id": "cd8d4300-b31b-4e1c-a850-df7c50bfaba7",
   "metadata": {},
   "source": [
    "## Summary"
   ]
  },
  {
   "cell_type": "markdown",
   "id": "d724aa44-d12b-4e28-b72f-d13c30ffaeb4",
   "metadata": {},
   "source": [
    "Основываясь на данных проведенных тестов, рекомендация не использовать новый алгоритм на всех пользователях. \n",
    "Возможно, команде ML имеет смысл проводить дальнейшее исследование алгоритма, потому что характер распределения показывает, что алгоритм, условно разделил пользователей на две группы.\n",
    "У одной группы CTR стал меньше, у другой группы CTR стал больше. Возможно, понимание причин такого поведения алгоритма сможет помочь команде ML его улучшить. "
   ]
  }
 ],
 "metadata": {
  "kernelspec": {
   "display_name": "Python 3 (ipykernel)",
   "language": "python",
   "name": "python3"
  },
  "language_info": {
   "codemirror_mode": {
    "name": "ipython",
    "version": 3
   },
   "file_extension": ".py",
   "mimetype": "text/x-python",
   "name": "python",
   "nbconvert_exporter": "python",
   "pygments_lexer": "ipython3",
   "version": "3.8.10"
  }
 },
 "nbformat": 4,
 "nbformat_minor": 5
}
