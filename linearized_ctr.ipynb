{
 "cells": [
  {
   "cell_type": "markdown",
   "id": "8c339d27-bf2b-4ad2-99d4-11eeb9316439",
   "metadata": {},
   "source": [
    "# Groups 0 and 3 analysis"
   ]
  },
  {
   "cell_type": "markdown",
   "id": "ddb02eea-6893-4f5c-b403-1c68d16fd349",
   "metadata": {},
   "source": [
    "## Download and read data"
   ]
  },
  {
   "cell_type": "code",
   "execution_count": 12,
   "id": "2603aa5e-d713-49c1-919a-c03173831a28",
   "metadata": {},
   "outputs": [],
   "source": [
    "import pandas as pd\n",
    "import numpy as np\n",
    "import matplotlib.pyplot as plt\n",
    "import seaborn as sns\n",
    "from scipy import stats\n",
    "import pandahouse\n",
    "%matplotlib inline"
   ]
  },
  {
   "cell_type": "code",
   "execution_count": 13,
   "id": "e68bf1e8-f8a3-4333-9dec-5ab80ccdd651",
   "metadata": {},
   "outputs": [],
   "source": [
    "def select(query):\n",
    "    return pandahouse.read_clickhouse(query, connection=connection)"
   ]
  },
  {
   "cell_type": "code",
   "execution_count": 14,
   "id": "090bd95c-116c-4dd0-8047-e2109ef27f0c",
   "metadata": {},
   "outputs": [],
   "source": [
    "connection = {\n",
    "    'database': 'simulator_20221120',\n",
    "    'host': 'https://clickhouse.lab.karpov.courses',\n",
    "    'user': 'student',\n",
    "    'password': 'dpo_python_2020'\n",
    "}"
   ]
  },
  {
   "cell_type": "code",
   "execution_count": 30,
   "id": "2eda8d88-446a-4b2a-80ce-74215f900fad",
   "metadata": {},
   "outputs": [],
   "source": [
    "query = '''\n",
    "select exp_group, user_id,\n",
    "sum(action = 'like') as likes,\n",
    "sum(action = 'view') as views,\n",
    "likes / views as ctr\n",
    "from {db}.feed_actions \n",
    "where toDate(time) between '2022-11-02' and '2022-11-08' and exp_group in (0, 3)\n",
    "group by exp_group, user_id\n",
    "'''"
   ]
  },
  {
   "cell_type": "code",
   "execution_count": 31,
   "id": "1824932d-4d2e-4849-8e7c-6e42acd16949",
   "metadata": {},
   "outputs": [],
   "source": [
    "df = select(query)"
   ]
  },
  {
   "cell_type": "code",
   "execution_count": 32,
   "id": "988658e0-6c7c-48f5-af01-3c4f9cbfc341",
   "metadata": {},
   "outputs": [
    {
     "data": {
      "text/html": [
       "<div>\n",
       "<style scoped>\n",
       "    .dataframe tbody tr th:only-of-type {\n",
       "        vertical-align: middle;\n",
       "    }\n",
       "\n",
       "    .dataframe tbody tr th {\n",
       "        vertical-align: top;\n",
       "    }\n",
       "\n",
       "    .dataframe thead th {\n",
       "        text-align: right;\n",
       "    }\n",
       "</style>\n",
       "<table border=\"1\" class=\"dataframe\">\n",
       "  <thead>\n",
       "    <tr style=\"text-align: right;\">\n",
       "      <th></th>\n",
       "      <th>exp_group</th>\n",
       "      <th>user_id</th>\n",
       "      <th>likes</th>\n",
       "      <th>views</th>\n",
       "      <th>ctr</th>\n",
       "    </tr>\n",
       "  </thead>\n",
       "  <tbody>\n",
       "    <tr>\n",
       "      <th>0</th>\n",
       "      <td>3</td>\n",
       "      <td>115383</td>\n",
       "      <td>9</td>\n",
       "      <td>30</td>\n",
       "      <td>0.300000</td>\n",
       "    </tr>\n",
       "    <tr>\n",
       "      <th>1</th>\n",
       "      <td>3</td>\n",
       "      <td>123580</td>\n",
       "      <td>13</td>\n",
       "      <td>48</td>\n",
       "      <td>0.270833</td>\n",
       "    </tr>\n",
       "    <tr>\n",
       "      <th>2</th>\n",
       "      <td>0</td>\n",
       "      <td>4944</td>\n",
       "      <td>8</td>\n",
       "      <td>41</td>\n",
       "      <td>0.195122</td>\n",
       "    </tr>\n",
       "    <tr>\n",
       "      <th>3</th>\n",
       "      <td>0</td>\n",
       "      <td>4504</td>\n",
       "      <td>5</td>\n",
       "      <td>15</td>\n",
       "      <td>0.333333</td>\n",
       "    </tr>\n",
       "    <tr>\n",
       "      <th>4</th>\n",
       "      <td>0</td>\n",
       "      <td>121508</td>\n",
       "      <td>18</td>\n",
       "      <td>88</td>\n",
       "      <td>0.204545</td>\n",
       "    </tr>\n",
       "    <tr>\n",
       "      <th>...</th>\n",
       "      <td>...</td>\n",
       "      <td>...</td>\n",
       "      <td>...</td>\n",
       "      <td>...</td>\n",
       "      <td>...</td>\n",
       "    </tr>\n",
       "    <tr>\n",
       "      <th>20043</th>\n",
       "      <td>3</td>\n",
       "      <td>13781</td>\n",
       "      <td>10</td>\n",
       "      <td>27</td>\n",
       "      <td>0.370370</td>\n",
       "    </tr>\n",
       "    <tr>\n",
       "      <th>20044</th>\n",
       "      <td>3</td>\n",
       "      <td>130651</td>\n",
       "      <td>18</td>\n",
       "      <td>98</td>\n",
       "      <td>0.183673</td>\n",
       "    </tr>\n",
       "    <tr>\n",
       "      <th>20045</th>\n",
       "      <td>0</td>\n",
       "      <td>3681</td>\n",
       "      <td>7</td>\n",
       "      <td>55</td>\n",
       "      <td>0.127273</td>\n",
       "    </tr>\n",
       "    <tr>\n",
       "      <th>20046</th>\n",
       "      <td>3</td>\n",
       "      <td>122008</td>\n",
       "      <td>5</td>\n",
       "      <td>41</td>\n",
       "      <td>0.121951</td>\n",
       "    </tr>\n",
       "    <tr>\n",
       "      <th>20047</th>\n",
       "      <td>3</td>\n",
       "      <td>122190</td>\n",
       "      <td>19</td>\n",
       "      <td>65</td>\n",
       "      <td>0.292308</td>\n",
       "    </tr>\n",
       "  </tbody>\n",
       "</table>\n",
       "<p>20048 rows × 5 columns</p>\n",
       "</div>"
      ],
      "text/plain": [
       "       exp_group  user_id  likes  views       ctr\n",
       "0              3   115383      9     30  0.300000\n",
       "1              3   123580     13     48  0.270833\n",
       "2              0     4944      8     41  0.195122\n",
       "3              0     4504      5     15  0.333333\n",
       "4              0   121508     18     88  0.204545\n",
       "...          ...      ...    ...    ...       ...\n",
       "20043          3    13781     10     27  0.370370\n",
       "20044          3   130651     18     98  0.183673\n",
       "20045          0     3681      7     55  0.127273\n",
       "20046          3   122008      5     41  0.121951\n",
       "20047          3   122190     19     65  0.292308\n",
       "\n",
       "[20048 rows x 5 columns]"
      ]
     },
     "execution_count": 32,
     "metadata": {},
     "output_type": "execute_result"
    }
   ],
   "source": [
    "df"
   ]
  },
  {
   "cell_type": "markdown",
   "id": "4bbb167b-a43f-4c16-8197-d074fb4f39ff",
   "metadata": {},
   "source": [
    "## Analysis"
   ]
  },
  {
   "cell_type": "code",
   "execution_count": 33,
   "id": "200bdc80-b0ae-4493-8ebc-3b2c4fc0427b",
   "metadata": {},
   "outputs": [],
   "source": [
    "ctr_control = df[df['exp_group'] == 0]['likes'].sum() / df[df['exp_group'] == 0]['views'].sum()"
   ]
  },
  {
   "cell_type": "code",
   "execution_count": 34,
   "id": "2c455ec1-28ec-42d0-ba9f-332e6856dc2e",
   "metadata": {},
   "outputs": [],
   "source": [
    "df['linearized_likes'] = df['likes'] - ctr_control * df['views']"
   ]
  },
  {
   "cell_type": "code",
   "execution_count": 35,
   "id": "91d66dd7-f94f-40d2-9557-2dba9216958e",
   "metadata": {},
   "outputs": [
    {
     "data": {
      "text/plain": [
       "<AxesSubplot:xlabel='linearized_likes', ylabel='Count'>"
      ]
     },
     "execution_count": 35,
     "metadata": {},
     "output_type": "execute_result"
    },
    {
     "data": {
      "image/png": "[encoded data removed]",
      "text/plain": [
       "<Figure size 842.4x595.44 with 1 Axes>"
      ]
     },
     "metadata": {},
     "output_type": "display_data"
    }
   ],
   "source": [
    "sns.set(rc={'figure.figsize': (11.7, 8.27)})\n",
    "sns.histplot(data=df, x='linearized_likes', hue='exp_group', kde=False, palette=['r', 'b'], alpha=0.5)"
   ]
  },
  {
   "cell_type": "code",
   "execution_count": 36,
   "id": "aaaf9da0-cbf0-432c-9ece-8877517474c4",
   "metadata": {},
   "outputs": [
    {
     "data": {
      "text/plain": [
       "Ttest_indResult(statistic=-13.896870721904069, pvalue=1.055849414662529e-43)"
      ]
     },
     "execution_count": 36,
     "metadata": {},
     "output_type": "execute_result"
    }
   ],
   "source": [
    "stats.ttest_ind(df[df['exp_group'] == 0]['ctr'], df[df['exp_group'] == 3]['ctr'], equal_var = False)"
   ]
  },
  {
   "cell_type": "code",
   "execution_count": 37,
   "id": "21c8e4c5-f1bd-41f3-988a-5b3880d9e601",
   "metadata": {},
   "outputs": [
    {
     "data": {
      "text/plain": [
       "Ttest_indResult(statistic=-15.21499546090383, pvalue=5.4914249479687664e-52)"
      ]
     },
     "execution_count": 37,
     "metadata": {},
     "output_type": "execute_result"
    }
   ],
   "source": [
    "stats.ttest_ind(df[df['exp_group'] == 0]['linearized_likes'], df[df['exp_group'] == 3]['linearized_likes'], equal_var = False)"
   ]
  },
  {
   "cell_type": "markdown",
   "id": "129853fc-f517-432a-9431-1939cb28c67e",
   "metadata": {},
   "source": [
    "## Summary"
   ]
  },
  {
   "cell_type": "markdown",
   "id": "2413c9aa-60fb-4973-8b07-cdcd21f9d865",
   "metadata": {},
   "source": [
    "На основании анализа групп 0 и 3 по метрики линеаризованных лайков на гистограме визуально видно, что одна группа более явно сдвинута относительно другой группы. При этом p-value стало значительно меньше.    "
   ]
  },
  {
   "cell_type": "markdown",
   "id": "1a8a25b6-36ff-4ddf-a9e7-37888380913b",
   "metadata": {},
   "source": [
    "# Groups 1 and 2 analysis"
   ]
  },
  {
   "cell_type": "markdown",
   "id": "9ae6f0ed-bf52-468c-8230-231bb9b16ce4",
   "metadata": {},
   "source": [
    "## Download and read data"
   ]
  },
  {
   "cell_type": "code",
   "execution_count": 38,
   "id": "eab93190-e78f-4bb6-ac73-929a19ba2d00",
   "metadata": {},
   "outputs": [],
   "source": [
    "query = '''\n",
    "select exp_group, user_id,\n",
    "sum(action = 'like') as likes,\n",
    "sum(action = 'view') as views,\n",
    "likes / views as ctr\n",
    "from {db}.feed_actions \n",
    "where toDate(time) between '2022-11-02' and '2022-11-08' and exp_group in (1, 2)\n",
    "group by exp_group, user_id\n",
    "'''"
   ]
  },
  {
   "cell_type": "code",
   "execution_count": 39,
   "id": "e7980f1c-0c49-4a4f-85c2-b44933ffad5e",
   "metadata": {},
   "outputs": [],
   "source": [
    "df = select(query)"
   ]
  },
  {
   "cell_type": "code",
   "execution_count": 40,
   "id": "a9fac053-7f5e-4d36-bbd7-5648c5976f5d",
   "metadata": {},
   "outputs": [
    {
     "data": {
      "text/html": [
       "<div>\n",
       "<style scoped>\n",
       "    .dataframe tbody tr th:only-of-type {\n",
       "        vertical-align: middle;\n",
       "    }\n",
       "\n",
       "    .dataframe tbody tr th {\n",
       "        vertical-align: top;\n",
       "    }\n",
       "\n",
       "    .dataframe thead th {\n",
       "        text-align: right;\n",
       "    }\n",
       "</style>\n",
       "<table border=\"1\" class=\"dataframe\">\n",
       "  <thead>\n",
       "    <tr style=\"text-align: right;\">\n",
       "      <th></th>\n",
       "      <th>exp_group</th>\n",
       "      <th>user_id</th>\n",
       "      <th>likes</th>\n",
       "      <th>views</th>\n",
       "      <th>ctr</th>\n",
       "    </tr>\n",
       "  </thead>\n",
       "  <tbody>\n",
       "    <tr>\n",
       "      <th>0</th>\n",
       "      <td>1</td>\n",
       "      <td>109963</td>\n",
       "      <td>3</td>\n",
       "      <td>15</td>\n",
       "      <td>0.200000</td>\n",
       "    </tr>\n",
       "    <tr>\n",
       "      <th>1</th>\n",
       "      <td>1</td>\n",
       "      <td>26117</td>\n",
       "      <td>32</td>\n",
       "      <td>141</td>\n",
       "      <td>0.226950</td>\n",
       "    </tr>\n",
       "    <tr>\n",
       "      <th>2</th>\n",
       "      <td>1</td>\n",
       "      <td>138232</td>\n",
       "      <td>18</td>\n",
       "      <td>73</td>\n",
       "      <td>0.246575</td>\n",
       "    </tr>\n",
       "    <tr>\n",
       "      <th>3</th>\n",
       "      <td>1</td>\n",
       "      <td>26295</td>\n",
       "      <td>33</td>\n",
       "      <td>122</td>\n",
       "      <td>0.270492</td>\n",
       "    </tr>\n",
       "    <tr>\n",
       "      <th>4</th>\n",
       "      <td>1</td>\n",
       "      <td>18392</td>\n",
       "      <td>7</td>\n",
       "      <td>32</td>\n",
       "      <td>0.218750</td>\n",
       "    </tr>\n",
       "    <tr>\n",
       "      <th>...</th>\n",
       "      <td>...</td>\n",
       "      <td>...</td>\n",
       "      <td>...</td>\n",
       "      <td>...</td>\n",
       "      <td>...</td>\n",
       "    </tr>\n",
       "    <tr>\n",
       "      <th>20026</th>\n",
       "      <td>1</td>\n",
       "      <td>132567</td>\n",
       "      <td>45</td>\n",
       "      <td>296</td>\n",
       "      <td>0.152027</td>\n",
       "    </tr>\n",
       "    <tr>\n",
       "      <th>20027</th>\n",
       "      <td>1</td>\n",
       "      <td>30872</td>\n",
       "      <td>11</td>\n",
       "      <td>59</td>\n",
       "      <td>0.186441</td>\n",
       "    </tr>\n",
       "    <tr>\n",
       "      <th>20028</th>\n",
       "      <td>2</td>\n",
       "      <td>25383</td>\n",
       "      <td>42</td>\n",
       "      <td>127</td>\n",
       "      <td>0.330709</td>\n",
       "    </tr>\n",
       "    <tr>\n",
       "      <th>20029</th>\n",
       "      <td>2</td>\n",
       "      <td>139020</td>\n",
       "      <td>24</td>\n",
       "      <td>114</td>\n",
       "      <td>0.210526</td>\n",
       "    </tr>\n",
       "    <tr>\n",
       "      <th>20030</th>\n",
       "      <td>2</td>\n",
       "      <td>17310</td>\n",
       "      <td>9</td>\n",
       "      <td>82</td>\n",
       "      <td>0.109756</td>\n",
       "    </tr>\n",
       "  </tbody>\n",
       "</table>\n",
       "<p>20031 rows × 5 columns</p>\n",
       "</div>"
      ],
      "text/plain": [
       "       exp_group  user_id  likes  views       ctr\n",
       "0              1   109963      3     15  0.200000\n",
       "1              1    26117     32    141  0.226950\n",
       "2              1   138232     18     73  0.246575\n",
       "3              1    26295     33    122  0.270492\n",
       "4              1    18392      7     32  0.218750\n",
       "...          ...      ...    ...    ...       ...\n",
       "20026          1   132567     45    296  0.152027\n",
       "20027          1    30872     11     59  0.186441\n",
       "20028          2    25383     42    127  0.330709\n",
       "20029          2   139020     24    114  0.210526\n",
       "20030          2    17310      9     82  0.109756\n",
       "\n",
       "[20031 rows x 5 columns]"
      ]
     },
     "execution_count": 40,
     "metadata": {},
     "output_type": "execute_result"
    }
   ],
   "source": [
    "df"
   ]
  },
  {
   "cell_type": "markdown",
   "id": "7195cf7c-7656-4318-85b5-5615ba9216a5",
   "metadata": {},
   "source": [
    "## Analysis"
   ]
  },
  {
   "cell_type": "code",
   "execution_count": 41,
   "id": "ab0c6caa-d53d-4729-898b-a33d247dea82",
   "metadata": {},
   "outputs": [],
   "source": [
    "ctr_control = df[df['exp_group'] == 1]['likes'].sum() / df[df['exp_group'] == 1]['views'].sum()"
   ]
  },
  {
   "cell_type": "code",
   "execution_count": 42,
   "id": "914ea5c9-227c-41c3-843d-6c269dc0ad24",
   "metadata": {},
   "outputs": [],
   "source": [
    "df['linearized_likes'] = df['likes'] - ctr_control * df['views']"
   ]
  },
  {
   "cell_type": "code",
   "execution_count": 43,
   "id": "f085b6ec-cb1b-49bd-8116-253fa9ee9b83",
   "metadata": {},
   "outputs": [
    {
     "data": {
      "text/plain": [
       "<AxesSubplot:xlabel='linearized_likes', ylabel='Count'>"
      ]
     },
     "execution_count": 43,
     "metadata": {},
     "output_type": "execute_result"
    },
    {
     "data": {
      "image/png": "[encoded data removed]",
      "text/plain": [
       "<Figure size 842.4x595.44 with 1 Axes>"
      ]
     },
     "metadata": {},
     "output_type": "display_data"
    }
   ],
   "source": [
    "sns.set(rc={'figure.figsize': (11.7, 8.27)})\n",
    "sns.histplot(data=df, x='linearized_likes', hue='exp_group', kde=False, palette=['r', 'b'], alpha=0.5)"
   ]
  },
  {
   "cell_type": "code",
   "execution_count": 45,
   "id": "49a413b1-651b-447e-8fc5-e07083aaa927",
   "metadata": {},
   "outputs": [
    {
     "data": {
      "text/plain": [
       "Ttest_indResult(statistic=0.7094392041270485, pvalue=0.4780623130874935)"
      ]
     },
     "execution_count": 45,
     "metadata": {},
     "output_type": "execute_result"
    }
   ],
   "source": [
    "stats.ttest_ind(df[df['exp_group'] == 1]['ctr'], df[df['exp_group'] == 2]['ctr'], equal_var = False)"
   ]
  },
  {
   "cell_type": "code",
   "execution_count": 28,
   "id": "0e80783d-35d5-4ac7-b78b-b486fe5a838b",
   "metadata": {},
   "outputs": [
    {
     "data": {
      "text/plain": [
       "Ttest_indResult(statistic=6.122579994775973, pvalue=9.439432187037712e-10)"
      ]
     },
     "execution_count": 28,
     "metadata": {},
     "output_type": "execute_result"
    }
   ],
   "source": [
    "stats.ttest_ind(df[df['exp_group'] == 1]['linearized_likes'], df[df['exp_group'] == 2]['linearized_likes'], equal_var = False)"
   ]
  },
  {
   "cell_type": "markdown",
   "id": "ea23e8af-471e-47fd-bff4-9eae03c374da",
   "metadata": {},
   "source": [
    "## Summary"
   ]
  },
  {
   "cell_type": "markdown",
   "id": "de4143e5-46f0-4dc0-baf4-213f618d329e",
   "metadata": {},
   "source": [
    "На основании анализа групп 1 и 2 по метрики линеаризованных лайков на гистограме визуально видно, что распределение группы 1 сконцентрировалось около 0, а распределение группы 2 стало более близким к нормальному. При этом p-value стало значительно меньше.\n",
    "\n",
    "T-test по метрики линеаризованных лайков явно утверждает, что отличие между группами есть. Интересно, что стандартный t-test утверждал обратное.  "
   ]
  }
 ],
 "metadata": {
  "kernelspec": {
   "display_name": "Python 3 (ipykernel)",
   "language": "python",
   "name": "python3"
  },
  "language_info": {
   "codemirror_mode": {
    "name": "ipython",
    "version": 3
   },
   "file_extension": ".py",
   "mimetype": "text/x-python",
   "name": "python",
   "nbconvert_exporter": "python",
   "pygments_lexer": "ipython3",
   "version": "3.8.10"
  }
 },
 "nbformat": 4,
 "nbformat_minor": 5
}
